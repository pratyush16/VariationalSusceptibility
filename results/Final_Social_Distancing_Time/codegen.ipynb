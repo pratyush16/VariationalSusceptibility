{
 "cells": [
  {
   "cell_type": "code",
   "execution_count": 10,
   "metadata": {},
   "outputs": [],
   "source": [
    "# for i in range(20):\n",
    "#     inFile = open('Parameter_estimation.m', 'r')\n",
    "#     outFile = open('Parameter_estimation_B' + str((i+1)*5) + '.m', 'w')\n",
    "#     for line in inFile:\n",
    "#         outFile.write(line.replace(\"hh = pratyush\",\"hh=1\"))\n",
    "#     inFile.close()\n",
    "#     outFile.close()\n",
    "#     fin = open('Parameter_estimation_B' + str((i+1)*5) + '.m', 'r')\n",
    "#     code = fin.read()\n",
    "#     code = code.replace(\"forwardmodel(m)\",\"forwardmodel_\" + str((i+1)*5) + \"(m)\")\n",
    "#     fin.close()\n",
    "#     fout = open('Parameter_estimation_B' + str((i+1)*5) + '.m', 'w')\n",
    "#     fout.write(code)\n",
    "#     fout.close()"
   ]
  },
  {
   "cell_type": "code",
   "execution_count": 11,
   "metadata": {},
   "outputs": [],
   "source": [
    "# for i in range(20):\n",
    "#     inFile = open('forwardmodel.m', 'r')\n",
    "#     outFile = open('forwardmodel_' + str((i+1)*5) + '.m', 'w')\n",
    "#     for line in inFile:\n",
    "#         outFile.write(line.replace(\"soln1 = ode45(@covidODEhetsus,\",\"soln1 = ode45(@covidODEhetsus_\" + str((i+1)*5) + \",\"))\n",
    "#     inFile.close()\n",
    "#     outFile.close()"
   ]
  },
  {
   "cell_type": "code",
   "execution_count": 12,
   "metadata": {},
   "outputs": [],
   "source": [
    "# for i in range(20):\n",
    "#     inFile = open('covidODEhetsus.m', 'r')\n",
    "#     outFile = open('covidODEhetsus_' + str((i+1)*5) + '.m', 'w')\n",
    "#     for line in inFile:\n",
    "#         outFile.write(line.replace(\"fsd=x;\",\"fsd=\" + str((i+1)*0.05) + \";\"))\n",
    "#     inFile.close()\n",
    "#     outFile.close()"
   ]
  },
  {
   "cell_type": "code",
   "execution_count": 17,
   "metadata": {},
   "outputs": [],
   "source": [
    "# for i in range(20):\n",
    "#     inFile = open('spain.slurm', 'r')\n",
    "#     outFile = open('e_' + str((i+1)*5) + '.slurm', 'w')\n",
    "#     for line in inFile:\n",
    "#         outFile.write(line.replace(\"spain_5\",\"e_\" + str((i+1)*5)))\n",
    "#     inFile.close()\n",
    "#     outFile.close()\n",
    "#     fin = open('e_' + str((i+1)*5) + '.slurm', 'r')\n",
    "#     code = fin.read()\n",
    "#     code = code.replace(\"Parameter_estimation_5.m\",\"Parameter_estimation_E\" + str((i+1)*5) + \".m\")\n",
    "#     fin.close()\n",
    "#     fout = open('e_' + str((i+1)*5) + '.slurm', 'w')\n",
    "#     fout.write(code)\n",
    "#     fout.close()"
   ]
  },
  {
   "cell_type": "code",
   "execution_count": null,
   "metadata": {},
   "outputs": [],
   "source": []
  }
 ],
 "metadata": {
  "kernelspec": {
   "display_name": "Python 3",
   "language": "python",
   "name": "python3"
  },
  "language_info": {
   "codemirror_mode": {
    "name": "ipython",
    "version": 3
   },
   "file_extension": ".py",
   "mimetype": "text/x-python",
   "name": "python",
   "nbconvert_exporter": "python",
   "pygments_lexer": "ipython3",
   "version": "3.7.4"
  }
 },
 "nbformat": 4,
 "nbformat_minor": 2
}
