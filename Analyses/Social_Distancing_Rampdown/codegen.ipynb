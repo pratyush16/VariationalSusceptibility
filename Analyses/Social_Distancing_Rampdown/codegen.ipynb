{
 "cells": [
  {
   "cell_type": "code",
   "execution_count": 10,
   "metadata": {},
   "outputs": [],
   "source": [
    "p = ['B','E','P','S']\n",
    "n = {\n",
    "    p[0]: '1',\n",
    "    p[1]: '4',\n",
    "    p[2]: '2',\n",
    "    p[3]: '3'\n",
    "}\n",
    "for country in p:\n",
    "    for i in range(12):\n",
    "        inFile = open('Parameter_estimation.m', 'r')\n",
    "        outFile = open('Parameter_estimation_' + str(country) + str((i+1)*120) + '.m', 'w')\n",
    "        for line in inFile:\n",
    "            outFile.write(line.replace(\"hh = ...\",\"hh=\"+str(n[country])))\n",
    "        inFile.close()\n",
    "        outFile.close()\n",
    "        fin = open('Parameter_estimation_' + str(country) + str((i+1)*120) + '.m', 'r')\n",
    "        code = fin.read()\n",
    "        code = code.replace(\"forwardmodel(m)\",\"forwardmodel_\" + str((i+1)*120) + \"(m)\")\n",
    "        fin.close()\n",
    "        fout = open('Parameter_estimation_' + str(country) + str((i+1)*120) + '.m', 'w')\n",
    "        fout.write(code)\n",
    "        fout.close()"
   ]
  },
  {
   "cell_type": "code",
   "execution_count": 8,
   "metadata": {},
   "outputs": [],
   "source": [
    "for i in range(12):\n",
    "    inFile = open('forwardmodel.m', 'r')\n",
    "    outFile = open('forwardmodel_' + str((i+1)*120) + '.m', 'w')\n",
    "    for line in inFile:\n",
    "        outFile.write(line.replace(\"drampdown = 120;\",\"drampdown = \" + str((i+1)*120) + \";\"))\n",
    "    inFile.close()\n",
    "    outFile.close()"
   ]
  },
  {
   "cell_type": "code",
   "execution_count": 9,
   "metadata": {},
   "outputs": [],
   "source": [
    "for country in p:\n",
    "    for i in range(12):\n",
    "        inFile = open('spain.slurm', 'r')\n",
    "        outFile = open(str(country) + '_' + str((i+1)*120) + '.slurm', 'w')\n",
    "        for line in inFile:\n",
    "            outFile.write(line.replace(\"spain_5\",str(country) + \"_\" + str((i+1)*120)))\n",
    "        inFile.close()\n",
    "        outFile.close()\n",
    "        fin = open(str(country) + '_' + str((i+1)*120) + '.slurm', 'r')\n",
    "        code = fin.read()\n",
    "        code = code.replace(\"Parameter_estimation_5.m\",\"Parameter_estimation_\" + str(country) + str((i+1)*120) + \".m\")\n",
    "        fin.close()\n",
    "        fout = open(str(country) + '_' + str((i+1)*120) + '.slurm', 'w')\n",
    "        fout.write(code)\n",
    "        fout.close()"
   ]
  },
  {
   "cell_type": "code",
   "execution_count": null,
   "metadata": {},
   "outputs": [],
   "source": []
  }
 ],
 "metadata": {
  "kernelspec": {
   "display_name": "Python 3",
   "language": "python",
   "name": "python3"
  },
  "language_info": {
   "codemirror_mode": {
    "name": "ipython",
    "version": 3
   },
   "file_extension": ".py",
   "mimetype": "text/x-python",
   "name": "python",
   "nbconvert_exporter": "python",
   "pygments_lexer": "ipython3",
   "version": "3.7.4"
  }
 },
 "nbformat": 4,
 "nbformat_minor": 2
}
