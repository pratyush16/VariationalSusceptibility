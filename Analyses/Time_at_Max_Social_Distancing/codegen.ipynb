{
 "cells": [
  {
   "cell_type": "code",
   "execution_count": 19,
   "metadata": {},
   "outputs": [],
   "source": [
    "# #Setting Parameter Estimation Files\n",
    "# for i in range(30):\n",
    "#     inFile = open('Parameter_estimation.m', 'r')\n",
    "#     outFile = open('Parameter_estimation_B' + str((i+1)*5) + '.m', 'w')\n",
    "#     for line in inFile:\n",
    "#         outFile.write(line.replace(\"hh = ...\",\"hh=1\"))\n",
    "#     inFile.close()\n",
    "#     outFile.close()\n",
    "#     fin = open('Parameter_estimation_B' + str((i+1)*5) + '.m', 'r')\n",
    "#     code = fin.read()\n",
    "#     code = code.replace(\"forwardmodel(m)\",\"forwardmodel_\" + str((i+1)*5) + \"(m)\")\n",
    "#     fin.close()\n",
    "#     fout = open('Parameter_estimation_B' + str((i+1)*5) + '.m', 'w')\n",
    "#     fout.write(code)\n",
    "#     fout.close()"
   ]
  },
  {
   "cell_type": "code",
   "execution_count": 20,
   "metadata": {},
   "outputs": [],
   "source": [
    "# #setting forward model files\n",
    "# for i in range(30):\n",
    "#     inFile = open('forwardmodel.m', 'r')\n",
    "#     outFile = open('forwardmodel_' + str((i+1)*5) + '.m', 'w')\n",
    "#     for line in inFile:\n",
    "#         outFile.write(line.replace(\"dmax      = 30;\",\"dmax      = \" + str((i+1)*5) + \";\"))\n",
    "#     inFile.close()\n",
    "#     outFile.close()"
   ]
  },
  {
   "cell_type": "code",
   "execution_count": 24,
   "metadata": {},
   "outputs": [],
   "source": [
    "# #setting bash scripts\n",
    "# for i in range(30):\n",
    "#     inFile = open('spain.slurm', 'r')\n",
    "#     outFile = open('e_' + str((i+1)*5) + '.slurm', 'w')\n",
    "#     for line in inFile:\n",
    "#         outFile.write(line.replace(\"spain_5\",\"e_\" + str((i+1)*5)))\n",
    "#     inFile.close()\n",
    "#     outFile.close()\n",
    "#     fin = open('e_' + str((i+1)*5) + '.slurm', 'r')\n",
    "#     code = fin.read()\n",
    "#     code = code.replace(\"Parameter_estimation_5.m\",\"Parameter_estimation_E\" + str((i+1)*5) + \".m\")\n",
    "#     fin.close()\n",
    "#     fout = open('e_' + str((i+1)*5) + '.slurm', 'w')\n",
    "#     fout.write(code)\n",
    "#     fout.close()"
   ]
  },
  {
   "cell_type": "code",
   "execution_count": null,
   "metadata": {},
   "outputs": [],
   "source": []
  }
 ],
 "metadata": {
  "kernelspec": {
   "display_name": "Python 3",
   "language": "python",
   "name": "python3"
  },
  "language_info": {
   "codemirror_mode": {
    "name": "ipython",
    "version": 3
   },
   "file_extension": ".py",
   "mimetype": "text/x-python",
   "name": "python",
   "nbconvert_exporter": "python",
   "pygments_lexer": "ipython3",
   "version": "3.7.4"
  }
 },
 "nbformat": 4,
 "nbformat_minor": 2
}